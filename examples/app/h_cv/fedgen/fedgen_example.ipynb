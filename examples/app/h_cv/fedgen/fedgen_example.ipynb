{
 "cells": [
  {
   "cell_type": "markdown",
   "id": "7bc8dacdc0d6ebb4",
   "metadata": {},
   "source": [
    "# FenGen个性化联邦学习例子"
   ]
  },
  {
   "cell_type": "code",
   "execution_count": 1,
   "id": "938d2c5d",
   "metadata": {
    "ExecuteTime": {
     "end_time": "2024-08-26T11:38:38.466144Z",
     "start_time": "2024-08-26T11:38:38.457278Z"
    }
   },
   "outputs": [],
   "source": [
    "%load_ext autoreload\n",
    "%autoreload 2"
   ]
  },
  {
   "cell_type": "markdown",
   "id": "a700aec9",
   "metadata": {},
   "source": [
    "## 在secretflow环境创造3个实体[Alice，Bob，Charlie]，其中 Alice, Bob和Charlie 是三个PYU，Alice和Bob角色是client，Charlie角色是server。"
   ]
  },
  {
   "cell_type": "code",
   "execution_count": 2,
   "id": "1c6ab3f20b850118",
   "metadata": {},
   "outputs": [
    {
     "name": "stderr",
     "output_type": "stream",
     "text": [
      "/home/yang/anaconda3/envs/mysf/lib/python3.10/site-packages/tqdm/auto.py:21: TqdmWarning: IProgress not found. Please update jupyter and ipywidgets. See https://ipywidgets.readthedocs.io/en/stable/user_install.html\n",
      "  from .autonotebook import tqdm as notebook_tqdm\n",
      "2024-08-26 19:44:01,656\tINFO util.py:154 -- Missing packages: ['ipywidgets']. Run `pip install -U ipywidgets`, then restart the notebook server for rich notebook output.\n"
     ]
    },
    {
     "name": "stdout",
     "output_type": "stream",
     "text": [
      "The version of SecretFlow: 1.9.0.dev20240726\n"
     ]
    },
    {
     "name": "stderr",
     "output_type": "stream",
     "text": [
      "/home/yang/anaconda3/envs/mysf/lib/python3.10/subprocess.py:1796: RuntimeWarning: os.fork() was called. os.fork() is incompatible with multithreaded code, and JAX is multithreaded, so this will likely lead to a deadlock.\n",
      "  self.pid = _posixsubprocess.fork_exec(\n",
      "2024-08-26 19:44:04,207\tINFO worker.py:1724 -- Started a local Ray instance.\n"
     ]
    }
   ],
   "source": [
    "import secretflow as sf\n",
    "\n",
    "# Check the version of your SecretFlow\n",
    "print('The version of SecretFlow: {}'.format(sf.__version__))\n",
    "\n",
    "# In case you have a running secretflow runtime already.\n",
    "sf.shutdown()\n",
    "\n",
    "sf.init(['alice', 'bob', 'charlie'], address='local')\n",
    "alice, bob, charlie = sf.PYU('alice'), sf.PYU('bob'), sf.PYU('charlie')"
   ]
  },
  {
   "cell_type": "code",
   "execution_count": 3,
   "id": "461ab9e4",
   "metadata": {},
   "outputs": [],
   "source": [
    "spu = sf.SPU(sf.utils.testing.cluster_def(['alice', 'bob']))"
   ]
  },
  {
   "cell_type": "code",
   "execution_count": 4,
   "id": "1fef7d14-74be-4ee1-83b4-f9fac7567324",
   "metadata": {},
   "outputs": [],
   "source": [
    "## 导入相关依赖"
   ]
  },
  {
   "cell_type": "code",
   "execution_count": 5,
   "id": "403dddd7",
   "metadata": {},
   "outputs": [
    {
     "name": "stderr",
     "output_type": "stream",
     "text": [
      "2024-08-26 19:44:07.645082: W tensorflow/compiler/tf2tensorrt/utils/py_utils.cc:38] TF-TRT Warning: Could not find TensorRT\n"
     ]
    }
   ],
   "source": [
    "from secretflow.ml.nn.core.torch import (\n",
    "    metric_wrapper,\n",
    "    optim_wrapper,\n",
    "    BaseModule,\n",
    "    TorchModel,\n",
    ")\n",
    "from secretflow.ml.nn import FLModel\n",
    "from torchmetrics import Accuracy, Precision\n",
    "from secretflow.security.aggregation import SecureAggregator\n",
    "from secretflow.utils.simulation.datasets import load_mnist\n",
    "from torch import nn, optim\n",
    "from torch.nn import functional as F\n",
    "import torch"
   ]
  },
  {
   "cell_type": "markdown",
   "id": "f7a71564",
   "metadata": {},
   "source": [
    "## 数据划分，这里模拟数据不平衡2:8分"
   ]
  },
  {
   "cell_type": "code",
   "execution_count": 6,
   "id": "adb0271c",
   "metadata": {},
   "outputs": [],
   "source": [
    "(train_data, train_label), (test_data, test_label) = load_mnist(\n",
    "    parts={alice: 0.2, bob: 0.8},\n",
    "    normalized_x=True,\n",
    "    categorical_y=True,\n",
    "    is_torch=True,\n",
    ")"
   ]
  },
  {
   "cell_type": "markdown",
   "id": "9b00201f",
   "metadata": {},
   "source": [
    "## 定义一个神经网络模型，输出是logit"
   ]
  },
  {
   "cell_type": "code",
   "execution_count": 7,
   "id": "f7169dc6",
   "metadata": {},
   "outputs": [],
   "source": [
    "class ConvNet(BaseModule):\n",
    "    \"\"\"Small ConvNet for MNIST.\"\"\"\n",
    "\n",
    "    def __init__(self):\n",
    "        super(ConvNet, self).__init__()\n",
    "        self.conv1 = nn.Conv2d(1, 3, kernel_size=3)\n",
    "        self.fc_in_dim = 192\n",
    "        self.fc = nn.Linear(self.fc_in_dim, 10)\n",
    "\n",
    "    def forward(self, x, start_layer_idx=0):\n",
    "        if start_layer_idx == -1:\n",
    "            x = self.fc(x)\n",
    "            return x\n",
    "        x = F.relu(F.max_pool2d(self.conv1(x), 3))\n",
    "        x = x.view(-1, self.fc_in_dim)\n",
    "        x = self.fc(x)\n",
    "        return x"
   ]
  },
  {
   "cell_type": "markdown",
   "id": "ba14607e",
   "metadata": {},
   "source": [
    "定义神经网络模型的损失函数和优化器"
   ]
  },
  {
   "cell_type": "code",
   "execution_count": 8,
   "id": "18884242",
   "metadata": {},
   "outputs": [],
   "source": [
    "loss_fn = nn.CrossEntropyLoss\n",
    "optim_fn = optim_wrapper(optim.Adam, lr=1e-2)"
   ]
  },
  {
   "cell_type": "markdown",
   "id": "0b21603b",
   "metadata": {},
   "source": [
    "## 准备FedGen相关工作，生成器模型等"
   ]
  },
  {
   "cell_type": "markdown",
   "id": "ad1455d0",
   "metadata": {},
   "source": [
    "生成器模型"
   ]
  },
  {
   "cell_type": "code",
   "execution_count": 9,
   "id": "674731d7",
   "metadata": {},
   "outputs": [
    {
     "name": "stdout",
     "output_type": "stream",
     "text": [
      "GeneratorModel(\n",
      "  (fc_layers): Sequential(\n",
      "    (0): Linear(in_features=74, out_features=256, bias=True)\n",
      "    (1): BatchNorm1d(256, eps=1e-05, momentum=0.1, affine=True, track_running_stats=True)\n",
      "    (2): ReLU()\n",
      "  )\n",
      "  (representation_layer): Linear(in_features=256, out_features=192, bias=True)\n",
      ")\n"
     ]
    }
   ],
   "source": [
    "class GeneratorModel(BaseModule):\n",
    "    def __init__(\n",
    "        self, hidden_dimension, latent_dimension, n_class, noise_dim, embedding=False\n",
    "    ):\n",
    "        super(GeneratorModel, self).__init__()\n",
    "        self.hidden_dim = hidden_dimension\n",
    "        self.latent_dim = latent_dimension\n",
    "        self.n_class = n_class\n",
    "        self.noise_dim = noise_dim\n",
    "        self.embedding = embedding\n",
    "        input_dim = (\n",
    "            self.noise_dim * 2 if self.embedding else self.noise_dim + self.n_class\n",
    "        )\n",
    "        self.build_network(input_dim)\n",
    "\n",
    "    def build_network(self, input_dim):\n",
    "        if self.embedding:\n",
    "            self.embedding_layer = nn.Embedding(self.n_class, self.noise_dim)\n",
    "        # Fully connected layers\n",
    "        self.fc_layers = nn.Sequential(\n",
    "            nn.Linear(input_dim, self.hidden_dim),\n",
    "            nn.BatchNorm1d(self.hidden_dim),\n",
    "            nn.ReLU(),\n",
    "        )\n",
    "        # Representation layer\n",
    "        self.representation_layer = nn.Linear(self.hidden_dim, self.latent_dim)\n",
    "        # print(f\"Build last layer {self.hidden_dim} X {self.latent_dim}\")\n",
    "\n",
    "    def forward(self, labels, latent_layer_idx=-1, verbose=True):\n",
    "        \"\"\"\n",
    "        G(Z|y) or G(X|y):\n",
    "        Generate either latent representation( latent_layer_idx < 0) or raw image (latent_layer_idx=0) conditional on labels.\n",
    "        :param labels:\n",
    "        :param latent_layer_idx:\n",
    "            if -1, generate latent representation of the last layer,\n",
    "            -2 for the 2nd to last layer, 0 for raw images.\n",
    "        :param verbose: also return the sampled Gaussian noise if verbose = True\n",
    "        :return: a dictionary of output information.\n",
    "        \"\"\"\n",
    "        result = {}\n",
    "        batch_size = labels.shape[0]\n",
    "        eps = torch.rand((batch_size, self.noise_dim))  # sampling from Gaussian\n",
    "        if verbose:\n",
    "            result['eps'] = eps\n",
    "        if self.embedding:  # embedded dense vector\n",
    "            y_input = self.embedding_layer(labels)\n",
    "        else:  # one-hot (sparse) vector\n",
    "            y_input = torch.FloatTensor(batch_size, self.n_class)\n",
    "            y_input.zero_()\n",
    "            # labels = labels.view\n",
    "            y_input.scatter_(1, labels.view(-1, 1), 1)\n",
    "        z = torch.cat((eps, y_input), dim=1)\n",
    "        ### FC layers\n",
    "        for layer in self.fc_layers:\n",
    "            z = layer(z)\n",
    "        z = self.representation_layer(z)\n",
    "        result['output'] = z\n",
    "        return result\n",
    "\n",
    "\n",
    "generator = GeneratorModel(\n",
    "    hidden_dimension=256,\n",
    "    latent_dimension=192,\n",
    "    n_class=10,\n",
    "    noise_dim=64,\n",
    "    embedding=False,\n",
    ")\n",
    "print(generator)"
   ]
  },
  {
   "cell_type": "markdown",
   "id": "a0da3e36",
   "metadata": {},
   "source": [
    "DiversityLoss是一个自定义的损失函数类"
   ]
  },
  {
   "cell_type": "code",
   "execution_count": 10,
   "id": "e6217205",
   "metadata": {},
   "outputs": [],
   "source": [
    "class DiversityLoss(nn.Module):\n",
    "    \"\"\"\n",
    "    Diversity loss for improving the performance.\n",
    "    \"\"\"\n",
    "\n",
    "    def __init__(self, metric):\n",
    "        \"\"\"\n",
    "        Class initializer.\n",
    "        \"\"\"\n",
    "        super().__init__()\n",
    "        self.metric = metric\n",
    "        self.cosine = nn.CosineSimilarity(dim=2)\n",
    "\n",
    "    def compute_distance(self, tensor1, tensor2, metric):\n",
    "        \"\"\"\n",
    "        Compute the distance between two tensors.\n",
    "        \"\"\"\n",
    "        if metric == 'l1':\n",
    "            return torch.abs(tensor1 - tensor2).mean(dim=(2,))\n",
    "        elif metric == 'l2':\n",
    "            return torch.pow(tensor1 - tensor2, 2).mean(dim=(2,))\n",
    "        elif metric == 'cosine':\n",
    "            return 1 - self.cosine(tensor1, tensor2)\n",
    "        else:\n",
    "            raise ValueError(metric)\n",
    "\n",
    "    def pairwise_distance(self, tensor, how):\n",
    "        \"\"\"\n",
    "        Compute the pairwise distances between a Tensor's rows.\n",
    "        \"\"\"\n",
    "        n_data = tensor.size(0)\n",
    "        tensor1 = tensor.expand((n_data, n_data, tensor.size(1)))\n",
    "        tensor2 = tensor.unsqueeze(dim=1)\n",
    "        return self.compute_distance(tensor1, tensor2, how)\n",
    "\n",
    "    def forward(self, noises, layer):\n",
    "        \"\"\"\n",
    "        Forward propagation.\n",
    "        \"\"\"\n",
    "        if len(layer.shape) > 2:\n",
    "            layer = layer.view((layer.size(0), -1))\n",
    "        layer_dist = self.pairwise_distance(layer, how=self.metric)\n",
    "        noise_dist = self.pairwise_distance(noises, how='l2')\n",
    "        return torch.exp(torch.mean(-noise_dist * layer_dist))"
   ]
  },
  {
   "cell_type": "markdown",
   "id": "36ed20aa",
   "metadata": {},
   "source": [
    "FedGen需要有generator_config配置，关于生成器模型需要的损失函数，优化器等"
   ]
  },
  {
   "cell_type": "code",
   "execution_count": 11,
   "id": "abeef2a2",
   "metadata": {},
   "outputs": [],
   "source": [
    "kl_div_loss = nn.KLDivLoss(reduction=\"batchmean\")\n",
    "diversity_loss = DiversityLoss(metric='l1')\n",
    "generative_optimizer = torch.optim.Adam(\n",
    "    params=generator.parameters(),\n",
    "    lr=0.0003,\n",
    "    betas=(0.9, 0.999),\n",
    "    eps=1e-08,\n",
    "    weight_decay=0.01,\n",
    "    amsgrad=False,\n",
    ")\n",
    "generative_lr_scheduler = torch.optim.lr_scheduler.ExponentialLR(\n",
    "    optimizer=generative_optimizer, gamma=0.98\n",
    ")\n",
    "cross_entropy_loss = nn.CrossEntropyLoss()\n",
    "generator_config = {\n",
    "    'generator_model': generator,\n",
    "    'optimizer': generative_optimizer,\n",
    "    'scheduler': generative_lr_scheduler,\n",
    "    'loss_fn': cross_entropy_loss,\n",
    "    'kl_div_loss': kl_div_loss,\n",
    "    'diversity_loss': diversity_loss,\n",
    "    'num_classes': 10,\n",
    "    'epochs': 20,\n",
    "    'batch_size': 32,\n",
    "}"
   ]
  },
  {
   "cell_type": "markdown",
   "id": "436038d0",
   "metadata": {},
   "source": [
    "## 进行联邦学习"
   ]
  },
  {
   "cell_type": "code",
   "execution_count": 12,
   "id": "e1d2255b",
   "metadata": {},
   "outputs": [
    {
     "name": "stderr",
     "output_type": "stream",
     "text": [
      "INFO:root:Create proxy actor <class 'secretflow.device.proxy.Actor_Masker'> with party alice.\n",
      "INFO:root:Create proxy actor <class 'secretflow.device.proxy.Actor_Masker'> with party bob.\n",
      "INFO:root:Create proxy actor <class 'abc.ActorPYUFedGen'> with party alice.\n",
      "INFO:root:Create proxy actor <class 'abc.ActorPYUFedGen'> with party bob.\n",
      "INFO:root:FL Train Params: {'x': FedNdarray(partitions={PYURuntime(alice): <secretflow.device.device.pyu.PYUObject object at 0x7fdfb655c550>, PYURuntime(bob): <secretflow.device.device.pyu.PYUObject object at 0x7fdfb655c250>}, partition_way=<PartitionWay.HORIZONTAL: 'horizontal'>), 'y': FedNdarray(partitions={PYURuntime(alice): <secretflow.device.device.pyu.PYUObject object at 0x7fdfb655c4f0>, PYURuntime(bob): <secretflow.device.device.pyu.PYUObject object at 0x7fdfb655c370>}, partition_way=<PartitionWay.HORIZONTAL: 'horizontal'>), 'batch_size': 32, 'batch_sampling_rate': None, 'epochs': 20, 'verbose': 1, 'callbacks': None, 'validation_data': (FedNdarray(partitions={PYURuntime(alice): <secretflow.device.device.pyu.PYUObject object at 0x7fdfb655d0f0>, PYURuntime(bob): <secretflow.device.device.pyu.PYUObject object at 0x7fdfb655d1b0>}, partition_way=<PartitionWay.HORIZONTAL: 'horizontal'>), FedNdarray(partitions={PYURuntime(alice): <secretflow.device.device.pyu.PYUObject object at 0x7fdfb655d300>, PYURuntime(bob): <secretflow.device.device.pyu.PYUObject object at 0x7fdfb655d5a0>}, partition_way=<PartitionWay.HORIZONTAL: 'horizontal'>)), 'shuffle': False, 'class_weight': None, 'sample_weight': None, 'validation_freq': 1, 'aggregate_freq': 1, 'label_decoder': None, 'max_batch_size': 20000, 'prefetch_buffer_size': None, 'sampler_method': 'batch', 'random_seed': 11800, 'dp_spent_step_freq': None, 'audit_log_dir': None, 'dataset_builder': None, 'wait_steps': 100, 'self': <secretflow.ml.nn.fl.fl_model.FLModel object at 0x7fdfb655fd60>}\n",
      "\u001b[36m(pid=28273)\u001b[0m 2024-08-26 19:44:16.724864: W tensorflow/compiler/tf2tensorrt/utils/py_utils.cc:38] TF-TRT Warning: Could not find TensorRT\n",
      "Train Processing: :   0%|                                                                                                                                   | 0/375 [00:00<?, ?it/s]"
     ]
    },
    {
     "name": "stdout",
     "output_type": "stream",
     "text": [
      "Epoch 1/20\n"
     ]
    },
    {
     "name": "stderr",
     "output_type": "stream",
     "text": [
      "Train Processing: : 100%|████████████████████████████████████████████████████████████████████████████████████████████████████████████████████████▋| 374/375 [03:07<00:00,  2.03it/s]/home/yang/PycharmProjects/secretflow/secretflow/ml/nn/metrics.py:62: UserWarning: Please pay attention to local metrics, global only do naive aggregation.\n",
      "  warnings.warn(\n",
      "2024-08-26 19:47:26.145363: W tensorflow/core/common_runtime/gpu/gpu_device.cc:1956] Cannot dlopen some GPU libraries. Please make sure the missing libraries mentioned above are installed properly if you would like to use GPU. Follow the guide at https://www.tensorflow.org/install/gpu for how to download and setup the required libraries for your platform.\n",
      "Skipping registering GPU devices...\n",
      "Train Processing: : 100%|▉| 374/375 [03:07<00:00,  1.99it/s, {'multiclassaccuracy': 0.88055205, 'multiclassprecision': 0.88055205, 'val_multiclassaccuracy': 0.8960625, 'val_multicl\n",
      "Train Processing: :   0%|                                                                                                                                   | 0/375 [00:00<?, ?it/s]"
     ]
    },
    {
     "name": "stdout",
     "output_type": "stream",
     "text": [
      "Epoch 2/20\n",
      "\u001b[36m(ActorPYUFedGen pid=28273)\u001b[0m {'train-loss': 0.32098978757858276, 'train_multiclassaccuracy': tensor(0.8837), 'train_multiclassprecision': tensor(0.8837), 'val_eval_multiclassaccuracy': tensor(0.8785), 'val_eval_multiclassprecision': tensor(0.8785)}\n"
     ]
    },
    {
     "name": "stderr",
     "output_type": "stream",
     "text": [
      "Train Processing: : 100%|▉| 374/375 [03:10<00:00,  1.96it/s, {'multiclassaccuracy': 0.94209373, 'multiclassprecision': 0.94209373, 'val_multiclassaccuracy': 0.93018746, 'val_multic\n",
      "Train Processing: :   0%|                                                                                                                                   | 0/375 [00:00<?, ?it/s]"
     ]
    },
    {
     "name": "stdout",
     "output_type": "stream",
     "text": [
      "Epoch 3/20\n",
      "\u001b[36m(ActorPYUFedGen pid=28273)\u001b[0m {'train-loss': 0.15948446094989777, 'train_multiclassaccuracy': tensor(0.9448), 'train_multiclassprecision': tensor(0.9448), 'val_eval_multiclassaccuracy': tensor(0.9160), 'val_eval_multiclassprecision': tensor(0.9160)}\u001b[32m [repeated 2x across cluster] (Ray deduplicates logs by default. Set RAY_DEDUP_LOGS=0 to disable log deduplication, or see https://docs.ray.io/en/master/ray-observability/ray-logging.html#log-deduplication for more options.)\u001b[0m\n"
     ]
    },
    {
     "name": "stderr",
     "output_type": "stream",
     "text": [
      "Train Processing: : 100%|▉| 374/375 [03:12<00:00,  1.95it/s, {'multiclassaccuracy': 0.9514792, 'multiclassprecision': 0.9514792, 'val_multiclassaccuracy': 0.9436875, 'val_multiclas\n",
      "Train Processing: :   0%|                                                                                                                                   | 0/375 [00:00<?, ?it/s]"
     ]
    },
    {
     "name": "stdout",
     "output_type": "stream",
     "text": [
      "Epoch 4/20\n",
      "\u001b[36m(ActorPYUFedGen pid=28273)\u001b[0m {'train-loss': 0.09892704337835312, 'train_multiclassaccuracy': tensor(0.9525), 'train_multiclassprecision': tensor(0.9525), 'val_eval_multiclassaccuracy': tensor(0.9315), 'val_eval_multiclassprecision': tensor(0.9315)}\u001b[32m [repeated 2x across cluster]\u001b[0m\n"
     ]
    },
    {
     "name": "stderr",
     "output_type": "stream",
     "text": [
      "Train Processing: : 100%|▉| 374/375 [03:13<00:00,  1.93it/s, {'multiclassaccuracy': 0.9555625, 'multiclassprecision': 0.9555625, 'val_multiclassaccuracy': 0.94893754, 'val_multicla\n",
      "Train Processing: :   0%|                                                                                                                                   | 0/375 [00:00<?, ?it/s]"
     ]
    },
    {
     "name": "stdout",
     "output_type": "stream",
     "text": [
      "Epoch 5/20\n",
      "\u001b[36m(ActorPYUFedGen pid=28273)\u001b[0m {'train-loss': 0.07739856094121933, 'train_multiclassaccuracy': tensor(0.9563), 'train_multiclassprecision': tensor(0.9563), 'val_eval_multiclassaccuracy': tensor(0.9375), 'val_eval_multiclassprecision': tensor(0.9375)}\u001b[32m [repeated 2x across cluster]\u001b[0m\n"
     ]
    },
    {
     "name": "stderr",
     "output_type": "stream",
     "text": [
      "Train Processing: : 100%|▉| 374/375 [03:14<00:00,  1.92it/s, {'multiclassaccuracy': 0.95801044, 'multiclassprecision': 0.95801044, 'val_multiclassaccuracy': 0.951875, 'val_multicla\n",
      "Train Processing: :   0%|                                                                                                                                   | 0/375 [00:00<?, ?it/s]"
     ]
    },
    {
     "name": "stdout",
     "output_type": "stream",
     "text": [
      "Epoch 6/20\n",
      "\u001b[36m(ActorPYUFedGen pid=28273)\u001b[0m {'train-loss': 0.06668166071176529, 'train_multiclassaccuracy': tensor(0.9591), 'train_multiclassprecision': tensor(0.9591), 'val_eval_multiclassaccuracy': tensor(0.9400), 'val_eval_multiclassprecision': tensor(0.9400)}\u001b[32m [repeated 2x across cluster]\u001b[0m\n"
     ]
    },
    {
     "name": "stderr",
     "output_type": "stream",
     "text": [
      "Train Processing: : 100%|▉| 374/375 [03:14<00:00,  1.92it/s, {'multiclassaccuracy': 0.9595833, 'multiclassprecision': 0.9595833, 'val_multiclassaccuracy': 0.9544375, 'val_multiclas\n",
      "Train Processing: :   0%|                                                                                                                                   | 0/375 [00:00<?, ?it/s]"
     ]
    },
    {
     "name": "stdout",
     "output_type": "stream",
     "text": [
      "Epoch 7/20\n",
      "\u001b[36m(ActorPYUFedGen pid=28273)\u001b[0m {'train-loss': 0.05800740793347359, 'train_multiclassaccuracy': tensor(0.9601), 'train_multiclassprecision': tensor(0.9601), 'val_eval_multiclassaccuracy': tensor(0.9430), 'val_eval_multiclassprecision': tensor(0.9430)}\u001b[32m [repeated 2x across cluster]\u001b[0m\n"
     ]
    },
    {
     "name": "stderr",
     "output_type": "stream",
     "text": [
      "Train Processing: : 100%|▉| 374/375 [03:15<00:00,  1.91it/s, {'multiclassaccuracy': 0.9607396, 'multiclassprecision': 0.9607396, 'val_multiclassaccuracy': 0.95625, 'val_multiclassp\n",
      "Train Processing: :   0%|                                                                                                                                   | 0/375 [00:00<?, ?it/s]"
     ]
    },
    {
     "name": "stdout",
     "output_type": "stream",
     "text": [
      "Epoch 8/20\n",
      "\u001b[36m(ActorPYUFedGen pid=28273)\u001b[0m {'train-loss': 0.055014461278915405, 'train_multiclassaccuracy': tensor(0.9605), 'train_multiclassprecision': tensor(0.9605), 'val_eval_multiclassaccuracy': tensor(0.9455), 'val_eval_multiclassprecision': tensor(0.9455)}\u001b[32m [repeated 2x across cluster]\u001b[0m\n"
     ]
    },
    {
     "name": "stderr",
     "output_type": "stream",
     "text": [
      "Train Processing: : 100%|▉| 374/375 [03:16<00:00,  1.90it/s, {'multiclassaccuracy': 0.96203125, 'multiclassprecision': 0.96203125, 'val_multiclassaccuracy': 0.959875, 'val_multicla\n",
      "Train Processing: :   0%|                                                                                                                                   | 0/375 [00:00<?, ?it/s]"
     ]
    },
    {
     "name": "stdout",
     "output_type": "stream",
     "text": [
      "Epoch 9/20\n",
      "\u001b[36m(ActorPYUFedGen pid=28273)\u001b[0m {'train-loss': 0.05439997464418411, 'train_multiclassaccuracy': tensor(0.9613), 'train_multiclassprecision': tensor(0.9613), 'val_eval_multiclassaccuracy': tensor(0.9520), 'val_eval_multiclassprecision': tensor(0.9520)}\u001b[32m [repeated 2x across cluster]\u001b[0m\n"
     ]
    },
    {
     "name": "stderr",
     "output_type": "stream",
     "text": [
      "Train Processing: : 100%|▉| 374/375 [03:20<00:00,  1.87it/s, {'multiclassaccuracy': 0.9632813, 'multiclassprecision': 0.9632813, 'val_multiclassaccuracy': 0.96, 'val_multiclassprec\n",
      "Train Processing: :   0%|                                                                                                                                   | 0/375 [00:00<?, ?it/s]"
     ]
    },
    {
     "name": "stdout",
     "output_type": "stream",
     "text": [
      "Epoch 10/20\n",
      "\u001b[36m(ActorPYUFedGen pid=28273)\u001b[0m {'train-loss': 0.054123666137456894, 'train_multiclassaccuracy': tensor(0.9627), 'train_multiclassprecision': tensor(0.9627), 'val_eval_multiclassaccuracy': tensor(0.9510), 'val_eval_multiclassprecision': tensor(0.9510)}\u001b[32m [repeated 2x across cluster]\u001b[0m\n"
     ]
    },
    {
     "name": "stderr",
     "output_type": "stream",
     "text": [
      "Train Processing: : 100%|▉| 374/375 [03:27<00:00,  1.80it/s, {'multiclassaccuracy': 0.9642917, 'multiclassprecision': 0.9642917, 'val_multiclassaccuracy': 0.961625, 'val_multiclass\n",
      "Train Processing: :   0%|                                                                                                                                   | 0/375 [00:00<?, ?it/s]"
     ]
    },
    {
     "name": "stdout",
     "output_type": "stream",
     "text": [
      "Epoch 11/20\n",
      "\u001b[36m(ActorPYUFedGen pid=28273)\u001b[0m {'train-loss': 0.05435159057378769, 'train_multiclassaccuracy': tensor(0.9632), 'train_multiclassprecision': tensor(0.9632), 'val_eval_multiclassaccuracy': tensor(0.9535), 'val_eval_multiclassprecision': tensor(0.9535)}\u001b[32m [repeated 2x across cluster]\u001b[0m\n"
     ]
    },
    {
     "name": "stderr",
     "output_type": "stream",
     "text": [
      "Train Processing: : 100%|▉| 374/375 [03:28<00:00,  1.79it/s, {'multiclassaccuracy': 0.96540624, 'multiclassprecision': 0.96540624, 'val_multiclassaccuracy': 0.9615625, 'val_multicl\n",
      "Train Processing: :   0%|                                                                                                                                   | 0/375 [00:00<?, ?it/s]"
     ]
    },
    {
     "name": "stdout",
     "output_type": "stream",
     "text": [
      "Epoch 12/20\n",
      "\u001b[36m(ActorPYUFedGen pid=28273)\u001b[0m {'train-loss': 0.05210527032613754, 'train_multiclassaccuracy': tensor(0.9641), 'train_multiclassprecision': tensor(0.9641), 'val_eval_multiclassaccuracy': tensor(0.9540), 'val_eval_multiclassprecision': tensor(0.9540)}\u001b[32m [repeated 2x across cluster]\u001b[0m\n"
     ]
    },
    {
     "name": "stderr",
     "output_type": "stream",
     "text": [
      "Train Processing: : 100%|▉| 374/375 [03:25<00:00,  1.82it/s, {'multiclassaccuracy': 0.9661667, 'multiclassprecision': 0.9661667, 'val_multiclassaccuracy': 0.9625, 'val_multiclasspr\n",
      "Train Processing: :   0%|                                                                                                                                   | 0/375 [00:00<?, ?it/s]"
     ]
    },
    {
     "name": "stdout",
     "output_type": "stream",
     "text": [
      "Epoch 13/20\n",
      "\u001b[36m(ActorPYUFedGen pid=28273)\u001b[0m {'train-loss': 0.04824415221810341, 'train_multiclassaccuracy': tensor(0.9644), 'train_multiclassprecision': tensor(0.9644), 'val_eval_multiclassaccuracy': tensor(0.9555), 'val_eval_multiclassprecision': tensor(0.9555)}\u001b[32m [repeated 2x across cluster]\u001b[0m\n"
     ]
    },
    {
     "name": "stderr",
     "output_type": "stream",
     "text": [
      "Train Processing: : 100%|▉| 374/375 [03:24<00:00,  1.83it/s, {'multiclassaccuracy': 0.9668958, 'multiclassprecision': 0.9668958, 'val_multiclassaccuracy': 0.9633125, 'val_multiclas\n",
      "Train Processing: :   0%|                                                                                                                                   | 0/375 [00:00<?, ?it/s]"
     ]
    },
    {
     "name": "stdout",
     "output_type": "stream",
     "text": [
      "Epoch 14/20\n",
      "\u001b[36m(ActorPYUFedGen pid=28273)\u001b[0m {'train-loss': 0.04378644749522209, 'train_multiclassaccuracy': tensor(0.9653), 'train_multiclassprecision': tensor(0.9653), 'val_eval_multiclassaccuracy': tensor(0.9560), 'val_eval_multiclassprecision': tensor(0.9560)}\u001b[32m [repeated 2x across cluster]\u001b[0m\n"
     ]
    },
    {
     "name": "stderr",
     "output_type": "stream",
     "text": [
      "Train Processing: : 100%|▉| 374/375 [03:17<00:00,  1.90it/s, {'multiclassaccuracy': 0.9681667, 'multiclassprecision': 0.9681667, 'val_multiclassaccuracy': 0.96449995, 'val_multicla\n",
      "Train Processing: :   0%|                                                                                                                                   | 0/375 [00:00<?, ?it/s]"
     ]
    },
    {
     "name": "stdout",
     "output_type": "stream",
     "text": [
      "Epoch 15/20\n",
      "\u001b[36m(ActorPYUFedGen pid=28273)\u001b[0m {'train-loss': 0.040395185351371765, 'train_multiclassaccuracy': tensor(0.9669), 'train_multiclassprecision': tensor(0.9669), 'val_eval_multiclassaccuracy': tensor(0.9575), 'val_eval_multiclassprecision': tensor(0.9575)}\u001b[32m [repeated 2x across cluster]\u001b[0m\n"
     ]
    },
    {
     "name": "stderr",
     "output_type": "stream",
     "text": [
      "Train Processing: : 100%|▉| 374/375 [03:17<00:00,  1.89it/s, {'multiclassaccuracy': 0.96953124, 'multiclassprecision': 0.96953124, 'val_multiclassaccuracy': 0.96500003, 'val_multic\n",
      "Train Processing: :   0%|                                                                                                                                   | 0/375 [00:00<?, ?it/s]"
     ]
    },
    {
     "name": "stdout",
     "output_type": "stream",
     "text": [
      "Epoch 16/20\n",
      "\u001b[36m(ActorPYUFedGen pid=28273)\u001b[0m {'train-loss': 0.038736842572689056, 'train_multiclassaccuracy': tensor(0.9688), 'train_multiclassprecision': tensor(0.9688), 'val_eval_multiclassaccuracy': tensor(0.9580), 'val_eval_multiclassprecision': tensor(0.9580)}\u001b[32m [repeated 2x across cluster]\u001b[0m\n"
     ]
    },
    {
     "name": "stderr",
     "output_type": "stream",
     "text": [
      "Train Processing: : 100%|▉| 374/375 [03:17<00:00,  1.90it/s, {'multiclassaccuracy': 0.9702604, 'multiclassprecision': 0.9702604, 'val_multiclassaccuracy': 0.9661875, 'val_multiclas\n",
      "Train Processing: :   0%|                                                                                                                                   | 0/375 [00:00<?, ?it/s]"
     ]
    },
    {
     "name": "stdout",
     "output_type": "stream",
     "text": [
      "Epoch 17/20\n",
      "\u001b[36m(ActorPYUFedGen pid=28273)\u001b[0m {'train-loss': 0.03759680688381195, 'train_multiclassaccuracy': tensor(0.9695), 'train_multiclassprecision': tensor(0.9695), 'val_eval_multiclassaccuracy': tensor(0.9595), 'val_eval_multiclassprecision': tensor(0.9595)}\u001b[32m [repeated 2x across cluster]\u001b[0m\n"
     ]
    },
    {
     "name": "stderr",
     "output_type": "stream",
     "text": [
      "Train Processing: : 100%|▉| 374/375 [03:17<00:00,  1.89it/s, {'multiclassaccuracy': 0.97038543, 'multiclassprecision': 0.97038543, 'val_multiclassaccuracy': 0.9661875, 'val_multicl\n",
      "Train Processing: :   0%|                                                                                                                                   | 0/375 [00:00<?, ?it/s]"
     ]
    },
    {
     "name": "stdout",
     "output_type": "stream",
     "text": [
      "Epoch 18/20\n",
      "\u001b[36m(ActorPYUFedGen pid=28273)\u001b[0m {'train-loss': 0.03463209420442581, 'train_multiclassaccuracy': tensor(0.9695), 'train_multiclassprecision': tensor(0.9695), 'val_eval_multiclassaccuracy': tensor(0.9595), 'val_eval_multiclassprecision': tensor(0.9595)}\u001b[32m [repeated 2x across cluster]\u001b[0m\n"
     ]
    },
    {
     "name": "stderr",
     "output_type": "stream",
     "text": [
      "Train Processing: : 100%|▉| 374/375 [03:17<00:00,  1.89it/s, {'multiclassaccuracy': 0.9713646, 'multiclassprecision': 0.9713646, 'val_multiclassaccuracy': 0.96625, 'val_multiclassp\n",
      "Train Processing: :   0%|                                                                                                                                   | 0/375 [00:00<?, ?it/s]"
     ]
    },
    {
     "name": "stdout",
     "output_type": "stream",
     "text": [
      "Epoch 19/20\n",
      "\u001b[36m(ActorPYUFedGen pid=28273)\u001b[0m {'train-loss': 0.03343019261956215, 'train_multiclassaccuracy': tensor(0.9706), 'train_multiclassprecision': tensor(0.9706), 'val_eval_multiclassaccuracy': tensor(0.9595), 'val_eval_multiclassprecision': tensor(0.9595)}\u001b[32m [repeated 2x across cluster]\u001b[0m\n"
     ]
    },
    {
     "name": "stderr",
     "output_type": "stream",
     "text": [
      "Train Processing: : 100%|▉| 374/375 [03:18<00:00,  1.88it/s, {'multiclassaccuracy': 0.9715313, 'multiclassprecision': 0.9715313, 'val_multiclassaccuracy': 0.9666875, 'val_multiclas\n",
      "Train Processing: :   0%|                                                                                                                                   | 0/375 [00:00<?, ?it/s]"
     ]
    },
    {
     "name": "stdout",
     "output_type": "stream",
     "text": [
      "Epoch 20/20\n",
      "\u001b[36m(ActorPYUFedGen pid=28273)\u001b[0m {'train-loss': 0.033099215477705, 'train_multiclassaccuracy': tensor(0.9702), 'train_multiclassprecision': tensor(0.9702), 'val_eval_multiclassaccuracy': tensor(0.9600), 'val_eval_multiclassprecision': tensor(0.9600)}\u001b[32m [repeated 2x across cluster]\u001b[0m\n"
     ]
    },
    {
     "name": "stderr",
     "output_type": "stream",
     "text": [
      "Train Processing: : 100%|▉| 374/375 [03:18<00:00,  1.88it/s, {'multiclassaccuracy': 0.97160417, 'multiclassprecision': 0.97160417, 'val_multiclassaccuracy': 0.96625, 'val_multiclas\n"
     ]
    }
   ],
   "source": [
    "model_def = TorchModel(\n",
    "    model_fn=ConvNet,\n",
    "    loss_fn=loss_fn,\n",
    "    optim_fn=optim_fn,\n",
    "    metrics=[\n",
    "        metric_wrapper(Accuracy, task=\"multiclass\", num_classes=10, average='micro'),\n",
    "        metric_wrapper(Precision, task=\"multiclass\", num_classes=10, average='micro'),\n",
    "    ],\n",
    ")\n",
    "\n",
    "device_list = [alice, bob]\n",
    "server = charlie\n",
    "aggregator = SecureAggregator(server, [alice, bob])\n",
    "\n",
    "# spcify params\n",
    "fl_model = FLModel(\n",
    "    server=server,\n",
    "    device_list=device_list,\n",
    "    model=model_def,\n",
    "    strategy='fed_gen',  # fl strategy\n",
    "    backend=\"torch\",  # backend support ['tensorflow', 'torch']\n",
    "    aggregator=aggregator,\n",
    "    generator_config=generator_config,\n",
    ")\n",
    "history = fl_model.fit(\n",
    "    train_data,\n",
    "    train_label,\n",
    "    validation_data=(test_data, test_label),\n",
    "    epochs=20,\n",
    "    batch_size=32,\n",
    "    aggregate_freq=1,\n",
    ")"
   ]
  },
  {
   "cell_type": "markdown",
   "id": "285ef2c4",
   "metadata": {},
   "source": [
    "## 绘制结果"
   ]
  },
  {
   "cell_type": "code",
   "execution_count": 13,
   "id": "9fd114e7",
   "metadata": {},
   "outputs": [
    {
     "name": "stdout",
     "output_type": "stream",
     "text": [
      "\u001b[36m(ActorPYUFedGen pid=28273)\u001b[0m {'train-loss': 0.0328717939555645, 'train_multiclassaccuracy': tensor(0.9704), 'train_multiclassprecision': tensor(0.9704), 'val_eval_multiclassaccuracy': tensor(0.9600), 'val_eval_multiclassprecision': tensor(0.9600)}\n"
     ]
    },
    {
     "data": {
      "image/png": "[encoded data removed]",
      "text/plain": [
       "<Figure size 640x480 with 1 Axes>"
      ]
     },
     "metadata": {},
     "output_type": "display_data"
    }
   ],
   "source": [
    "from matplotlib import pyplot as plt\n",
    "\n",
    "# Draw accuracy values for training & validation\n",
    "plt.plot(history[\"global_history\"]['multiclassaccuracy'])\n",
    "plt.plot(history[\"global_history\"]['val_multiclassaccuracy'])\n",
    "plt.title('FLModel accuracy')\n",
    "plt.ylabel('Accuracy')\n",
    "plt.xlabel('Epoch')\n",
    "plt.legend(['Train', 'Valid'], loc='upper left')\n",
    "plt.show()"
   ]
  }
 ],
 "metadata": {
  "kernelspec": {
   "display_name": "Python 3 (ipykernel)",
   "language": "python",
   "name": "python3"
  },
  "language_info": {
   "codemirror_mode": {
    "name": "ipython",
    "version": 3
   },
   "file_extension": ".py",
   "mimetype": "text/x-python",
   "name": "python",
   "nbconvert_exporter": "python",
   "pygments_lexer": "ipython3",
   "version": "3.10.14"
  }
 },
 "nbformat": 4,
 "nbformat_minor": 5
}
