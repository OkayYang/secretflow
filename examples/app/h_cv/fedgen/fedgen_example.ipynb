{
 "cells": [
  {
   "cell_type": "markdown",
   "id": "7bc8dacdc0d6ebb4",
   "metadata": {},
   "source": [
    "# FenGen个性化联邦学习例子"
   ]
  },
  {
   "cell_type": "code",
   "execution_count": null,
   "id": "938d2c5d",
   "metadata": {
    "ExecuteTime": {
     "end_time": "2024-08-26T11:38:38.466144Z",
     "start_time": "2024-08-26T11:38:38.457278Z"
    }
   },
   "outputs": [],
   "source": [
    "%load_ext autoreload\n",
    "%autoreload 2"
   ]
  },
  {
   "cell_type": "markdown",
   "id": "a700aec9",
   "metadata": {},
   "source": [
    "## 在secretflow环境创造3个实体[Alice，Bob，Charlie]，其中 Alice, Bob和Charlie 是三个PYU，Alice和Bob角色是client，Charlie角色是server。"
   ]
  },
  {
   "cell_type": "code",
   "execution_count": 2,
   "id": "1c6ab3f20b850118",
   "metadata": {},
   "outputs": [
    {
     "name": "stderr",
     "output_type": "stream",
     "text": [
      "/home/yang/anaconda3/envs/mysf/lib/python3.10/site-packages/tqdm/auto.py:21: TqdmWarning: IProgress not found. Please update jupyter and ipywidgets. See https://ipywidgets.readthedocs.io/en/stable/user_install.html\n",
      "  from .autonotebook import tqdm as notebook_tqdm\n",
      "2024-09-20 20:02:39,315\tINFO util.py:154 -- Missing packages: ['ipywidgets']. Run `pip install -U ipywidgets`, then restart the notebook server for rich notebook output.\n"
     ]
    },
    {
     "name": "stdout",
     "output_type": "stream",
     "text": [
      "The version of SecretFlow: 1.9.0.dev20240726\n"
     ]
    },
    {
     "name": "stderr",
     "output_type": "stream",
     "text": [
      "/home/yang/anaconda3/envs/mysf/lib/python3.10/subprocess.py:1796: RuntimeWarning: os.fork() was called. os.fork() is incompatible with multithreaded code, and JAX is multithreaded, so this will likely lead to a deadlock.\n",
      "  self.pid = _posixsubprocess.fork_exec(\n",
      "2024-09-20 20:02:42,035\tINFO worker.py:1724 -- Started a local Ray instance.\n"
     ]
    }
   ],
   "source": [
    "import secretflow as sf\n",
    "\n",
    "# Check the version of your SecretFlow\n",
    "print('The version of SecretFlow: {}'.format(sf.__version__))\n",
    "\n",
    "# In case you have a running secretflow runtime already.\n",
    "sf.shutdown()\n",
    "\n",
    "sf.init(['alice', 'bob', 'charlie'], address='local')\n",
    "alice, bob, charlie = sf.PYU('alice'), sf.PYU('bob'), sf.PYU('charlie')"
   ]
  },
  {
   "cell_type": "code",
   "execution_count": 3,
   "id": "461ab9e4",
   "metadata": {},
   "outputs": [],
   "source": [
    "spu = sf.SPU(sf.utils.testing.cluster_def(['alice', 'bob']))"
   ]
  },
  {
   "cell_type": "code",
   "execution_count": 4,
   "id": "1fef7d14-74be-4ee1-83b4-f9fac7567324",
   "metadata": {},
   "outputs": [],
   "source": [
    "## 导入相关依赖"
   ]
  },
  {
   "cell_type": "code",
   "execution_count": 5,
   "id": "403dddd7",
   "metadata": {},
   "outputs": [
    {
     "name": "stderr",
     "output_type": "stream",
     "text": [
      "2024-09-20 20:02:46.152676: W tensorflow/compiler/tf2tensorrt/utils/py_utils.cc:38] TF-TRT Warning: Could not find TensorRT\n"
     ]
    }
   ],
   "source": [
    "from secretflow.ml.nn.core.torch import (\n",
    "    metric_wrapper,\n",
    "    optim_wrapper,\n",
    "    BaseModule,\n",
    "    TorchModel,\n",
    ")\n",
    "from secretflow.ml.nn import FLModel\n",
    "from torchmetrics import Accuracy, Precision\n",
    "from secretflow.security.aggregation import SecureAggregator\n",
    "from secretflow.utils.simulation.datasets import load_mnist\n",
    "from torch import nn, optim\n",
    "from torch.nn import functional as F\n",
    "import torch"
   ]
  },
  {
   "cell_type": "markdown",
   "id": "f7a71564",
   "metadata": {},
   "source": [
    "## 数据划分，这里模拟数据不平衡2:8分"
   ]
  },
  {
   "cell_type": "code",
   "execution_count": 6,
   "id": "adb0271c",
   "metadata": {},
   "outputs": [],
   "source": [
    "(train_data, train_label), (test_data, test_label) = load_mnist(\n",
    "    parts={alice: 0.2, bob: 0.8},\n",
    "    normalized_x=True,\n",
    "    categorical_y=True,\n",
    "    is_torch=True,\n",
    ")"
   ]
  },
  {
   "cell_type": "markdown",
   "id": "9b00201f",
   "metadata": {},
   "source": [
    "## 定义一个神经网络模型，输出是logit"
   ]
  },
  {
   "cell_type": "code",
   "execution_count": 7,
   "id": "f7169dc6",
   "metadata": {},
   "outputs": [],
   "source": [
    "class ConvNet(BaseModule):\n",
    "    \"\"\"Small ConvNet for MNIST.\"\"\"\n",
    "\n",
    "    def __init__(self):\n",
    "        super(ConvNet, self).__init__()\n",
    "        self.conv1 = nn.Conv2d(1, 3, kernel_size=3)\n",
    "        self.fc_in_dim = 192\n",
    "        self.fc = nn.Linear(self.fc_in_dim, 10)\n",
    "\n",
    "    def forward(self, x, start_layer_idx=0):\n",
    "        if start_layer_idx == -1:\n",
    "            x = self.fc(x)\n",
    "            return x\n",
    "        x = F.relu(F.max_pool2d(self.conv1(x), 3))\n",
    "        x = x.view(-1, self.fc_in_dim)\n",
    "        x = self.fc(x)\n",
    "        return x"
   ]
  },
  {
   "cell_type": "markdown",
   "id": "ba14607e",
   "metadata": {},
   "source": [
    "定义神经网络模型的损失函数和优化器"
   ]
  },
  {
   "cell_type": "code",
   "execution_count": 8,
   "id": "18884242",
   "metadata": {},
   "outputs": [],
   "source": [
    "loss_fn = nn.CrossEntropyLoss\n",
    "optim_fn = optim_wrapper(optim.Adam, lr=1e-2)"
   ]
  },
  {
   "cell_type": "markdown",
   "id": "0b21603b",
   "metadata": {},
   "source": [
    "## 准备FedGen相关工作，生成器模型等"
   ]
  },
  {
   "cell_type": "markdown",
   "id": "ad1455d0",
   "metadata": {},
   "source": [
    "生成器模型"
   ]
  },
  {
   "cell_type": "code",
   "execution_count": 9,
   "id": "674731d7",
   "metadata": {},
   "outputs": [
    {
     "name": "stdout",
     "output_type": "stream",
     "text": [
      "GeneratorModel(\n",
      "  (fc_layers): Sequential(\n",
      "    (0): Linear(in_features=74, out_features=256, bias=True)\n",
      "    (1): BatchNorm1d(256, eps=1e-05, momentum=0.1, affine=True, track_running_stats=True)\n",
      "    (2): ReLU()\n",
      "  )\n",
      "  (representation_layer): Linear(in_features=256, out_features=192, bias=True)\n",
      ")\n"
     ]
    }
   ],
   "source": [
    "class GeneratorModel(BaseModule):\n",
    "    def __init__(\n",
    "        self, hidden_dimension, latent_dimension, n_class, noise_dim, embedding=False\n",
    "    ):\n",
    "        super(GeneratorModel, self).__init__()\n",
    "        self.hidden_dim = hidden_dimension\n",
    "        self.latent_dim = latent_dimension\n",
    "        self.n_class = n_class\n",
    "        self.noise_dim = noise_dim\n",
    "        self.embedding = embedding\n",
    "        input_dim = (\n",
    "            self.noise_dim * 2 if self.embedding else self.noise_dim + self.n_class\n",
    "        )\n",
    "        self.build_network(input_dim)\n",
    "\n",
    "    def build_network(self, input_dim):\n",
    "        if self.embedding:\n",
    "            self.embedding_layer = nn.Embedding(self.n_class, self.noise_dim)\n",
    "        # Fully connected layers\n",
    "        self.fc_layers = nn.Sequential(\n",
    "            nn.Linear(input_dim, self.hidden_dim),\n",
    "            nn.BatchNorm1d(self.hidden_dim),\n",
    "            nn.ReLU(),\n",
    "        )\n",
    "        # Representation layer\n",
    "        self.representation_layer = nn.Linear(self.hidden_dim, self.latent_dim)\n",
    "        # print(f\"Build last layer {self.hidden_dim} X {self.latent_dim}\")\n",
    "\n",
    "    def forward(self, labels, latent_layer_idx=-1, verbose=True):\n",
    "        \"\"\"\n",
    "        G(Z|y) or G(X|y):\n",
    "        Generate either latent representation( latent_layer_idx < 0) or raw image (latent_layer_idx=0) conditional on labels.\n",
    "        :param labels:\n",
    "        :param latent_layer_idx:\n",
    "            if -1, generate latent representation of the last layer,\n",
    "            -2 for the 2nd to last layer, 0 for raw images.\n",
    "        :param verbose: also return the sampled Gaussian noise if verbose = True\n",
    "        :return: a dictionary of output information.\n",
    "        \"\"\"\n",
    "        result = {}\n",
    "        batch_size = labels.shape[0]\n",
    "        eps = torch.rand((batch_size, self.noise_dim))  # sampling from Gaussian\n",
    "        if verbose:\n",
    "            result['eps'] = eps\n",
    "        if self.embedding:  # embedded dense vector\n",
    "            y_input = self.embedding_layer(labels)\n",
    "        else:  # one-hot (sparse) vector\n",
    "            y_input = torch.FloatTensor(batch_size, self.n_class)\n",
    "            y_input.zero_()\n",
    "            # labels = labels.view\n",
    "            y_input.scatter_(1, labels.view(-1, 1), 1)\n",
    "        z = torch.cat((eps, y_input), dim=1)\n",
    "        ### FC layers\n",
    "        for layer in self.fc_layers:\n",
    "            z = layer(z)\n",
    "        z = self.representation_layer(z)\n",
    "        result['output'] = z\n",
    "        return result\n",
    "\n",
    "\n",
    "generator = GeneratorModel(\n",
    "    hidden_dimension=256,\n",
    "    latent_dimension=192,\n",
    "    n_class=10,\n",
    "    noise_dim=64,\n",
    "    embedding=False,\n",
    ")\n",
    "print(generator)"
   ]
  },
  {
   "cell_type": "markdown",
   "id": "a0da3e36",
   "metadata": {},
   "source": [
    "DiversityLoss是一个自定义的损失函数类"
   ]
  },
  {
   "cell_type": "code",
   "execution_count": 10,
   "id": "e6217205",
   "metadata": {},
   "outputs": [],
   "source": [
    "class DiversityLoss(nn.Module):\n",
    "    \"\"\"\n",
    "    Diversity loss for improving the performance.\n",
    "    \"\"\"\n",
    "\n",
    "    def __init__(self, metric):\n",
    "        \"\"\"\n",
    "        Class initializer.\n",
    "        \"\"\"\n",
    "        super().__init__()\n",
    "        self.metric = metric\n",
    "        self.cosine = nn.CosineSimilarity(dim=2)\n",
    "\n",
    "    def compute_distance(self, tensor1, tensor2, metric):\n",
    "        \"\"\"\n",
    "        Compute the distance between two tensors.\n",
    "        \"\"\"\n",
    "        if metric == 'l1':\n",
    "            return torch.abs(tensor1 - tensor2).mean(dim=(2,))\n",
    "        elif metric == 'l2':\n",
    "            return torch.pow(tensor1 - tensor2, 2).mean(dim=(2,))\n",
    "        elif metric == 'cosine':\n",
    "            return 1 - self.cosine(tensor1, tensor2)\n",
    "        else:\n",
    "            raise ValueError(metric)\n",
    "\n",
    "    def pairwise_distance(self, tensor, how):\n",
    "        \"\"\"\n",
    "        Compute the pairwise distances between a Tensor's rows.\n",
    "        \"\"\"\n",
    "        n_data = tensor.size(0)\n",
    "        tensor1 = tensor.expand((n_data, n_data, tensor.size(1)))\n",
    "        tensor2 = tensor.unsqueeze(dim=1)\n",
    "        return self.compute_distance(tensor1, tensor2, how)\n",
    "\n",
    "    def forward(self, noises, layer):\n",
    "        \"\"\"\n",
    "        Forward propagation.\n",
    "        \"\"\"\n",
    "        if len(layer.shape) > 2:\n",
    "            layer = layer.view((layer.size(0), -1))\n",
    "        layer_dist = self.pairwise_distance(layer, how=self.metric)\n",
    "        noise_dist = self.pairwise_distance(noises, how='l2')\n",
    "        return torch.exp(torch.mean(-noise_dist * layer_dist))"
   ]
  },
  {
   "cell_type": "markdown",
   "id": "36ed20aa",
   "metadata": {},
   "source": [
    "FedGen需要有generator_config配置，关于生成器模型需要的损失函数，优化器等"
   ]
  },
  {
   "cell_type": "code",
   "execution_count": 11,
   "id": "abeef2a2",
   "metadata": {},
   "outputs": [],
   "source": [
    "kl_div_loss = nn.KLDivLoss(reduction=\"batchmean\")\n",
    "diversity_loss = DiversityLoss(metric='l1')\n",
    "generative_optimizer = torch.optim.Adam(params=generator.parameters(), lr=1e-2)\n",
    "cross_entropy_loss = nn.CrossEntropyLoss()\n",
    "generator_config = {\n",
    "    'generator_model': generator,\n",
    "    'optimizer': generative_optimizer,\n",
    "    'loss_fn': cross_entropy_loss,\n",
    "    'kl_div_loss': kl_div_loss,\n",
    "    'diversity_loss': diversity_loss,\n",
    "    'num_classes': 10,\n",
    "}"
   ]
  },
  {
   "cell_type": "markdown",
   "id": "e0572a54-eed6-4c01-a978-987db9e56756",
   "metadata": {},
   "source": [
    "## 使用 Actor 进行生成器模型训练"
   ]
  },
  {
   "cell_type": "code",
   "execution_count": 12,
   "id": "70b50486-c404-45ce-a83e-8359a9f4bdc7",
   "metadata": {},
   "outputs": [],
   "source": [
    "from secretflow import proxy, PYUObject\n",
    "import numpy as np\n",
    "\n",
    "\n",
    "@proxy(PYUObject)\n",
    "class FedGenServer(object):\n",
    "    def generate_samples(self, generative_num_classes, generative_batch_size):\n",
    "        y = np.random.choice(generative_num_classes, generative_batch_size)\n",
    "        self.y_input = torch.LongTensor(y)\n",
    "        generative_optimizer.zero_grad()\n",
    "        self.gen_result = generator(self.y_input)\n",
    "        return self.gen_result['output']\n",
    "\n",
    "    def train_generator(\n",
    "        self,\n",
    "        user_results,\n",
    "        worker_label_counts,\n",
    "        generator,\n",
    "        generative_num_classes,\n",
    "        generative_optimizer,\n",
    "        loss_fn,\n",
    "        diversity_loss_fn,\n",
    "    ):\n",
    "        label_weights = []\n",
    "\n",
    "        num_workers = len(worker_label_counts)\n",
    "\n",
    "        # 遍历每个类别，计算权重\n",
    "        for label in range(generative_num_classes):\n",
    "            # 获取每个worker对该标签的计数\n",
    "            weights = [\n",
    "                worker_counts.get(label, 0) for worker_counts in worker_label_counts\n",
    "            ]\n",
    "\n",
    "            # 计算总和，避免除以0\n",
    "            label_sum = np.sum(weights) + 1e-6  # 稍微增加容差，视数据规模调整\n",
    "\n",
    "            # 计算该标签在所有worker中的权重\n",
    "            label_weights.append(np.array(weights) / label_sum)\n",
    "\n",
    "        # 将标签权重转换为 numpy 数组\n",
    "        label_weights = np.array(label_weights).reshape(\n",
    "            (generative_num_classes, num_workers)\n",
    "        )\n",
    "\n",
    "        # 准备训练\n",
    "        generator.train()\n",
    "\n",
    "        # 反向传播之前需要清除梯度\n",
    "        generative_optimizer.zero_grad()\n",
    "\n",
    "        gen_output, eps = self.gen_result['output'], self.gen_result['eps']\n",
    "\n",
    "        # 计算多样性损失\n",
    "        diversity_loss = diversity_loss_fn(eps, gen_output)\n",
    "\n",
    "        # Get teacher loss\n",
    "        teacher_loss = 0\n",
    "        for idx in range(len(user_results)):\n",
    "            weight = torch.tensor(\n",
    "                label_weights[self.y_input][:, idx].reshape(-1, 1), dtype=torch.float32\n",
    "            )\n",
    "            user_result_given_gen = user_results[idx]\n",
    "\n",
    "            # 计算每个worker的损失并加权\n",
    "            teacher_loss_ = torch.mean(\n",
    "                loss_fn(user_result_given_gen, self.y_input) * weight\n",
    "            )\n",
    "            teacher_loss += teacher_loss_\n",
    "\n",
    "        # 总损失\n",
    "        loss = teacher_loss + diversity_loss\n",
    "\n",
    "        # 反向传播\n",
    "        loss.backward()\n",
    "\n",
    "        # 更新参数\n",
    "        generative_optimizer.step()"
   ]
  },
  {
   "cell_type": "markdown",
   "id": "436038d0",
   "metadata": {},
   "source": [
    "## 进行联邦学习"
   ]
  },
  {
   "cell_type": "code",
   "execution_count": 13,
   "id": "e1d2255b",
   "metadata": {},
   "outputs": [
    {
     "name": "stderr",
     "output_type": "stream",
     "text": [
      "INFO:root:Create proxy actor <class 'secretflow.device.proxy.ActorFedGenServer'> with party charlie.\n",
      "INFO:root:Create proxy actor <class 'secretflow.device.proxy.Actor_Masker'> with party alice.\n",
      "INFO:root:Create proxy actor <class 'secretflow.device.proxy.Actor_Masker'> with party bob.\n",
      "INFO:root:Create proxy actor <class 'abc.ActorPYUFedGen'> with party alice.\n",
      "INFO:root:Create proxy actor <class 'abc.ActorPYUFedGen'> with party bob.\n",
      "INFO:root:FL Train Params: {'x': FedNdarray(partitions={PYURuntime(alice): <secretflow.device.device.pyu.PYUObject object at 0x7f2c003c4bb0>, PYURuntime(bob): <secretflow.device.device.pyu.PYUObject object at 0x7f2c003c4760>}, partition_way=<PartitionWay.HORIZONTAL: 'horizontal'>), 'y': FedNdarray(partitions={PYURuntime(alice): <secretflow.device.device.pyu.PYUObject object at 0x7f2c003c4700>, PYURuntime(bob): <secretflow.device.device.pyu.PYUObject object at 0x7f2c003c46a0>}, partition_way=<PartitionWay.HORIZONTAL: 'horizontal'>), 'batch_size': 32, 'batch_sampling_rate': None, 'epochs': 20, 'verbose': 1, 'callbacks': None, 'validation_data': (FedNdarray(partitions={PYURuntime(alice): <secretflow.device.device.pyu.PYUObject object at 0x7f2c003c46d0>, PYURuntime(bob): <secretflow.device.device.pyu.PYUObject object at 0x7f2c003c4e80>}, partition_way=<PartitionWay.HORIZONTAL: 'horizontal'>), FedNdarray(partitions={PYURuntime(alice): <secretflow.device.device.pyu.PYUObject object at 0x7f2c003c4fd0>, PYURuntime(bob): <secretflow.device.device.pyu.PYUObject object at 0x7f2c003c5270>}, partition_way=<PartitionWay.HORIZONTAL: 'horizontal'>)), 'shuffle': False, 'class_weight': None, 'sample_weight': None, 'validation_freq': 1, 'aggregate_freq': 1, 'label_decoder': None, 'max_batch_size': 20000, 'prefetch_buffer_size': None, 'sampler_method': 'batch', 'random_seed': 38061, 'dp_spent_step_freq': None, 'audit_log_dir': None, 'dataset_builder': None, 'wait_steps': 100, 'self': <secretflow.ml.nn.fl.fl_model.FLModel object at 0x7f2bfaf775e0>}\n",
      "\u001b[36m(pid=562974)\u001b[0m 2024-09-20 20:02:54.452723: W tensorflow/compiler/tf2tensorrt/utils/py_utils.cc:38] TF-TRT Warning: Could not find TensorRT\n",
      "Train Processing: :   0%|                                                                                                                                   | 0/375 [00:00<?, ?it/s]"
     ]
    },
    {
     "name": "stdout",
     "output_type": "stream",
     "text": [
      "Epoch 1/20\n"
     ]
    },
    {
     "name": "stderr",
     "output_type": "stream",
     "text": [
      "Train Processing: :  99%|████████████████████████████████████████████████████████████████████████████████████████████████████████████████████████▎| 373/375 [00:28<00:00, 14.84it/s]/home/yang/PycharmProjects/secretflow/secretflow/ml/nn/metrics.py:62: UserWarning: Please pay attention to local metrics, global only do naive aggregation.\n",
      "  warnings.warn(\n",
      "2024-09-20 20:03:27.757499: W tensorflow/core/common_runtime/gpu/gpu_device.cc:1956] Cannot dlopen some GPU libraries. Please make sure the missing libraries mentioned above are installed properly if you would like to use GPU. Follow the guide at https://www.tensorflow.org/install/gpu for how to download and setup the required libraries for your platform.\n",
      "Skipping registering GPU devices...\n",
      "Train Processing: : 100%|▉| 374/375 [00:28<00:00, 13.04it/s, {'multiclassaccuracy': 0.89109373, 'multiclassprecision': 0.89109373, 'val_multiclassaccuracy': 0.93562496, 'val_multic\n",
      "Train Processing: :   0%|▎                                                                                                                          | 1/375 [00:00<00:51,  7.32it/s]"
     ]
    },
    {
     "name": "stdout",
     "output_type": "stream",
     "text": [
      "Epoch 2/20\n",
      "\u001b[36m(ActorPYUFedGen pid=563149)\u001b[0m {'train-loss': 0.1255192905664444, 'train_multiclassaccuracy': tensor(0.8917), 'train_multiclassprecision': tensor(0.8917), 'val_eval_multiclassaccuracy': tensor(0.9260), 'val_eval_multiclassprecision': tensor(0.9260)}\n"
     ]
    },
    {
     "name": "stderr",
     "output_type": "stream",
     "text": [
      "Train Processing: : 100%|▉| 374/375 [00:28<00:00, 13.14it/s, {'multiclassaccuracy': 0.9487604, 'multiclassprecision': 0.9487604, 'val_multiclassaccuracy': 0.94925, 'val_multiclassp\n"
     ]
    },
    {
     "name": "stdout",
     "output_type": "stream",
     "text": [
      "\u001b[36m(ActorPYUFedGen pid=563149)\u001b[0m {'train-loss': 0.10515822470188141, 'train_multiclassaccuracy': tensor(0.9488), 'train_multiclassprecision': tensor(0.9488), 'val_eval_multiclassaccuracy': tensor(0.9410), 'val_eval_multiclassprecision': tensor(0.9410)}\u001b[32m [repeated 2x across cluster] (Ray deduplicates logs by default. Set RAY_DEDUP_LOGS=0 to disable log deduplication, or see https://docs.ray.io/en/master/ray-observability/ray-logging.html#log-deduplication for more options.)\u001b[0m\n"
     ]
    },
    {
     "name": "stderr",
     "output_type": "stream",
     "text": [
      "Train Processing: :   0%|▎                                                                                                                          | 1/375 [00:00<00:53,  7.00it/s]"
     ]
    },
    {
     "name": "stdout",
     "output_type": "stream",
     "text": [
      "Epoch 3/20\n"
     ]
    },
    {
     "name": "stderr",
     "output_type": "stream",
     "text": [
      "Train Processing: : 100%|▉| 374/375 [00:28<00:00, 13.05it/s, {'multiclassaccuracy': 0.9555, 'multiclassprecision': 0.9555, 'val_multiclassaccuracy': 0.9565625, 'val_multiclasspreci\n",
      "Train Processing: :   0%|▎                                                                                                                          | 1/375 [00:00<00:53,  7.03it/s]"
     ]
    },
    {
     "name": "stdout",
     "output_type": "stream",
     "text": [
      "Epoch 4/20\n",
      "\u001b[36m(ActorPYUFedGen pid=563149)\u001b[0m {'train-loss': 0.10342409461736679, 'train_multiclassaccuracy': tensor(0.9555), 'train_multiclassprecision': tensor(0.9555), 'val_eval_multiclassaccuracy': tensor(0.9495), 'val_eval_multiclassprecision': tensor(0.9495)}\u001b[32m [repeated 2x across cluster]\u001b[0m\n"
     ]
    },
    {
     "name": "stderr",
     "output_type": "stream",
     "text": [
      "Train Processing: : 100%|▉| 374/375 [00:29<00:00, 12.84it/s, {'multiclassaccuracy': 0.9585, 'multiclassprecision': 0.9585, 'val_multiclassaccuracy': 0.95631254, 'val_multiclassprec\n",
      "Train Processing: :   0%|▎                                                                                                                          | 1/375 [00:00<00:49,  7.59it/s]"
     ]
    },
    {
     "name": "stdout",
     "output_type": "stream",
     "text": [
      "Epoch 5/20\n",
      "\u001b[36m(ActorPYUFedGen pid=563149)\u001b[0m {'train-loss': 0.108164943754673, 'train_multiclassaccuracy': tensor(0.9576), 'train_multiclassprecision': tensor(0.9576), 'val_eval_multiclassaccuracy': tensor(0.9495), 'val_eval_multiclassprecision': tensor(0.9495)}\u001b[32m [repeated 2x across cluster]\u001b[0m\n"
     ]
    },
    {
     "name": "stderr",
     "output_type": "stream",
     "text": [
      "Train Processing: : 100%|▉| 374/375 [00:29<00:00, 12.72it/s, {'multiclassaccuracy': 0.96046877, 'multiclassprecision': 0.96046877, 'val_multiclassaccuracy': 0.9576875, 'val_multicl\n",
      "Train Processing: :   0%|▎                                                                                                                          | 1/375 [00:00<00:52,  7.12it/s]"
     ]
    },
    {
     "name": "stdout",
     "output_type": "stream",
     "text": [
      "Epoch 6/20\n",
      "\u001b[36m(ActorPYUFedGen pid=563149)\u001b[0m {'train-loss': 0.1124085783958435, 'train_multiclassaccuracy': tensor(0.9595), 'train_multiclassprecision': tensor(0.9595), 'val_eval_multiclassaccuracy': tensor(0.9505), 'val_eval_multiclassprecision': tensor(0.9505)}\u001b[32m [repeated 2x across cluster]\u001b[0m\n"
     ]
    },
    {
     "name": "stderr",
     "output_type": "stream",
     "text": [
      "Train Processing: : 100%|▉| 374/375 [00:29<00:00, 12.65it/s, {'multiclassaccuracy': 0.9612813, 'multiclassprecision': 0.9612813, 'val_multiclassaccuracy': 0.9579375, 'val_multiclas\n",
      "Train Processing: :   0%|▎                                                                                                                          | 1/375 [00:00<00:52,  7.19it/s]"
     ]
    },
    {
     "name": "stdout",
     "output_type": "stream",
     "text": [
      "\u001b[36m(ActorPYUFedGen pid=563149)\u001b[0m {'train-loss': 0.1128455325961113, 'train_multiclassaccuracy': tensor(0.9602), 'train_multiclassprecision': tensor(0.9602), 'val_eval_multiclassaccuracy': tensor(0.9505), 'val_eval_multiclassprecision': tensor(0.9505)}\u001b[32m [repeated 2x across cluster]\u001b[0m\n",
      "Epoch 7/20\n"
     ]
    },
    {
     "name": "stderr",
     "output_type": "stream",
     "text": [
      "Train Processing: : 100%|▉| 374/375 [00:29<00:00, 12.63it/s, {'multiclassaccuracy': 0.96187496, 'multiclassprecision': 0.96187496, 'val_multiclassaccuracy': 0.959125, 'val_multicla\n",
      "Train Processing: :   0%|▎                                                                                                                          | 1/375 [00:00<00:50,  7.37it/s]"
     ]
    },
    {
     "name": "stdout",
     "output_type": "stream",
     "text": [
      "Epoch 8/20\n",
      "\u001b[36m(ActorPYUFedGen pid=563149)\u001b[0m {'train-loss': 0.11082722246646881, 'train_multiclassaccuracy': tensor(0.9607), 'train_multiclassprecision': tensor(0.9607), 'val_eval_multiclassaccuracy': tensor(0.9525), 'val_eval_multiclassprecision': tensor(0.9525)}\u001b[32m [repeated 2x across cluster]\u001b[0m\n"
     ]
    },
    {
     "name": "stderr",
     "output_type": "stream",
     "text": [
      "Train Processing: : 100%|▉| 374/375 [00:29<00:00, 12.56it/s, {'multiclassaccuracy': 0.9629271, 'multiclassprecision': 0.9629271, 'val_multiclassaccuracy': 0.9589375, 'val_multiclas\n",
      "Train Processing: :   0%|▎                                                                                                                          | 1/375 [00:00<00:51,  7.20it/s]"
     ]
    },
    {
     "name": "stdout",
     "output_type": "stream",
     "text": [
      "Epoch 9/20\n",
      "\u001b[36m(ActorPYUFedGen pid=563149)\u001b[0m {'train-loss': 0.10980455577373505, 'train_multiclassaccuracy': tensor(0.9618), 'train_multiclassprecision': tensor(0.9618), 'val_eval_multiclassaccuracy': tensor(0.9525), 'val_eval_multiclassprecision': tensor(0.9525)}\u001b[32m [repeated 2x across cluster]\u001b[0m\n"
     ]
    },
    {
     "name": "stderr",
     "output_type": "stream",
     "text": [
      "Train Processing: : 100%|▉| 374/375 [00:30<00:00, 12.38it/s, {'multiclassaccuracy': 0.9637708, 'multiclassprecision': 0.9637708, 'val_multiclassaccuracy': 0.95862496, 'val_multicla\n"
     ]
    },
    {
     "name": "stdout",
     "output_type": "stream",
     "text": [
      "\u001b[36m(ActorPYUFedGen pid=563149)\u001b[0m {'train-loss': 0.10783303529024124, 'train_multiclassaccuracy': tensor(0.9625), 'train_multiclassprecision': tensor(0.9625), 'val_eval_multiclassaccuracy': tensor(0.9525), 'val_eval_multiclassprecision': tensor(0.9525)}\u001b[32m [repeated 2x across cluster]\u001b[0m\n"
     ]
    },
    {
     "name": "stderr",
     "output_type": "stream",
     "text": [
      "Train Processing: :   0%|                                                                                                                                   | 0/375 [00:00<?, ?it/s]"
     ]
    },
    {
     "name": "stdout",
     "output_type": "stream",
     "text": [
      "Epoch 10/20\n"
     ]
    },
    {
     "name": "stderr",
     "output_type": "stream",
     "text": [
      "Train Processing: : 100%|▉| 374/375 [00:30<00:00, 12.21it/s, {'multiclassaccuracy': 0.96428126, 'multiclassprecision': 0.96428126, 'val_multiclassaccuracy': 0.958875, 'val_multicla\n",
      "Train Processing: :   0%|▎                                                                                                                          | 1/375 [00:00<00:51,  7.23it/s]"
     ]
    },
    {
     "name": "stdout",
     "output_type": "stream",
     "text": [
      "Epoch 11/20\n",
      "\u001b[36m(ActorPYUFedGen pid=563149)\u001b[0m {'train-loss': 0.10783327370882034, 'train_multiclassaccuracy': tensor(0.9630), 'train_multiclassprecision': tensor(0.9630), 'val_eval_multiclassaccuracy': tensor(0.9535), 'val_eval_multiclassprecision': tensor(0.9535)}\u001b[32m [repeated 2x across cluster]\u001b[0m\n"
     ]
    },
    {
     "name": "stderr",
     "output_type": "stream",
     "text": [
      "Train Processing: : 100%|▉| 374/375 [00:31<00:00, 11.86it/s, {'multiclassaccuracy': 0.9648125, 'multiclassprecision': 0.9648125, 'val_multiclassaccuracy': 0.96012497, 'val_multicla\n",
      "Train Processing: :   0%|▎                                                                                                                          | 1/375 [00:00<00:52,  7.18it/s]"
     ]
    },
    {
     "name": "stdout",
     "output_type": "stream",
     "text": [
      "Epoch 12/20\n",
      "\u001b[36m(ActorPYUFedGen pid=563149)\u001b[0m {'train-loss': 0.10579489916563034, 'train_multiclassaccuracy': tensor(0.9637), 'train_multiclassprecision': tensor(0.9637), 'val_eval_multiclassaccuracy': tensor(0.9555), 'val_eval_multiclassprecision': tensor(0.9555)}\u001b[32m [repeated 2x across cluster]\u001b[0m\n"
     ]
    },
    {
     "name": "stderr",
     "output_type": "stream",
     "text": [
      "Train Processing: : 100%|▉| 374/375 [00:32<00:00, 11.63it/s, {'multiclassaccuracy': 0.9655104, 'multiclassprecision': 0.9655104, 'val_multiclassaccuracy': 0.96056247, 'val_multicla\n",
      "Train Processing: :   0%|▎                                                                                                                          | 1/375 [00:00<00:50,  7.42it/s]"
     ]
    },
    {
     "name": "stdout",
     "output_type": "stream",
     "text": [
      "Epoch 13/20\n",
      "\u001b[36m(ActorPYUFedGen pid=563149)\u001b[0m {'train-loss': 0.1076757088303566, 'train_multiclassaccuracy': tensor(0.9645), 'train_multiclassprecision': tensor(0.9645), 'val_eval_multiclassaccuracy': tensor(0.9565), 'val_eval_multiclassprecision': tensor(0.9565)}\u001b[32m [repeated 2x across cluster]\u001b[0m\n"
     ]
    },
    {
     "name": "stderr",
     "output_type": "stream",
     "text": [
      "Train Processing: : 100%|▉| 374/375 [00:31<00:00, 11.70it/s, {'multiclassaccuracy': 0.96586454, 'multiclassprecision': 0.96586454, 'val_multiclassaccuracy': 0.9618125, 'val_multicl\n",
      "Train Processing: :   0%|▎                                                                                                                          | 1/375 [00:00<00:52,  7.15it/s]"
     ]
    },
    {
     "name": "stdout",
     "output_type": "stream",
     "text": [
      "Epoch 14/20\n",
      "\u001b[36m(ActorPYUFedGen pid=563149)\u001b[0m {'train-loss': 0.10688956081867218, 'train_multiclassaccuracy': tensor(0.9647), 'train_multiclassprecision': tensor(0.9647), 'val_eval_multiclassaccuracy': tensor(0.9595), 'val_eval_multiclassprecision': tensor(0.9595)}\u001b[32m [repeated 2x across cluster]\u001b[0m\n"
     ]
    },
    {
     "name": "stderr",
     "output_type": "stream",
     "text": [
      "Train Processing: : 100%|▉| 374/375 [00:32<00:00, 11.68it/s, {'multiclassaccuracy': 0.966125, 'multiclassprecision': 0.966125, 'val_multiclassaccuracy': 0.96237504, 'val_multiclass\n"
     ]
    },
    {
     "name": "stdout",
     "output_type": "stream",
     "text": [
      "\u001b[36m(ActorPYUFedGen pid=563149)\u001b[0m {'train-loss': 0.10300488770008087, 'train_multiclassaccuracy': tensor(0.9648), 'train_multiclassprecision': tensor(0.9648), 'val_eval_multiclassaccuracy': tensor(0.9605), 'val_eval_multiclassprecision': tensor(0.9605)}\u001b[32m [repeated 2x across cluster]\u001b[0m\n"
     ]
    },
    {
     "name": "stderr",
     "output_type": "stream",
     "text": [
      "Train Processing: :   0%|▎                                                                                                                          | 1/375 [00:00<00:51,  7.33it/s]"
     ]
    },
    {
     "name": "stdout",
     "output_type": "stream",
     "text": [
      "Epoch 15/20\n"
     ]
    },
    {
     "name": "stderr",
     "output_type": "stream",
     "text": [
      "Train Processing: : 100%|▉| 374/375 [00:33<00:00, 11.14it/s, {'multiclassaccuracy': 0.9662708, 'multiclassprecision': 0.9662708, 'val_multiclassaccuracy': 0.963, 'val_multiclasspre\n",
      "Train Processing: :   0%|▎                                                                                                                          | 1/375 [00:00<00:54,  6.88it/s]"
     ]
    },
    {
     "name": "stdout",
     "output_type": "stream",
     "text": [
      "Epoch 16/20\n",
      "\u001b[36m(ActorPYUFedGen pid=563149)\u001b[0m {'train-loss': 0.10090146958827972, 'train_multiclassaccuracy': tensor(0.9647), 'train_multiclassprecision': tensor(0.9647), 'val_eval_multiclassaccuracy': tensor(0.9605), 'val_eval_multiclassprecision': tensor(0.9605)}\u001b[32m [repeated 2x across cluster]\u001b[0m\n"
     ]
    },
    {
     "name": "stderr",
     "output_type": "stream",
     "text": [
      "Train Processing: : 100%|▉| 374/375 [00:32<00:00, 11.39it/s, {'multiclassaccuracy': 0.9668125, 'multiclassprecision': 0.9668125, 'val_multiclassaccuracy': 0.964, 'val_multiclasspre\n",
      "Train Processing: :   0%|▎                                                                                                                          | 1/375 [00:00<00:49,  7.57it/s]"
     ]
    },
    {
     "name": "stdout",
     "output_type": "stream",
     "text": [
      "Epoch 17/20\n",
      "\u001b[36m(ActorPYUFedGen pid=563149)\u001b[0m {'train-loss': 0.09758858382701874, 'train_multiclassaccuracy': tensor(0.9654), 'train_multiclassprecision': tensor(0.9654), 'val_eval_multiclassaccuracy': tensor(0.9615), 'val_eval_multiclassprecision': tensor(0.9615)}\u001b[32m [repeated 2x across cluster]\u001b[0m\n"
     ]
    },
    {
     "name": "stderr",
     "output_type": "stream",
     "text": [
      "Train Processing: : 100%|▉| 374/375 [00:33<00:00, 11.02it/s, {'multiclassaccuracy': 0.9671875, 'multiclassprecision': 0.9671875, 'val_multiclassaccuracy': 0.96343756, 'val_multicla\n",
      "Train Processing: :   0%|▎                                                                                                                          | 1/375 [00:00<00:51,  7.32it/s]"
     ]
    },
    {
     "name": "stdout",
     "output_type": "stream",
     "text": [
      "Epoch 18/20\n",
      "\u001b[36m(ActorPYUFedGen pid=563149)\u001b[0m {'train-loss': 0.0965513214468956, 'train_multiclassaccuracy': tensor(0.9660), 'train_multiclassprecision': tensor(0.9660), 'val_eval_multiclassaccuracy': tensor(0.9610), 'val_eval_multiclassprecision': tensor(0.9610)}\u001b[32m [repeated 2x across cluster]\u001b[0m\n"
     ]
    },
    {
     "name": "stderr",
     "output_type": "stream",
     "text": [
      "Train Processing: : 100%|▉| 374/375 [00:32<00:00, 11.38it/s, {'multiclassaccuracy': 0.9672396, 'multiclassprecision': 0.9672396, 'val_multiclassaccuracy': 0.96325, 'val_multiclassp\n",
      "Train Processing: :   0%|▎                                                                                                                          | 1/375 [00:00<00:50,  7.43it/s]"
     ]
    },
    {
     "name": "stdout",
     "output_type": "stream",
     "text": [
      "Epoch 19/20\n",
      "\u001b[36m(ActorPYUFedGen pid=563149)\u001b[0m {'train-loss': 0.09432563930749893, 'train_multiclassaccuracy': tensor(0.9660), 'train_multiclassprecision': tensor(0.9660), 'val_eval_multiclassaccuracy': tensor(0.9600), 'val_eval_multiclassprecision': tensor(0.9600)}\u001b[32m [repeated 2x across cluster]\u001b[0m\n"
     ]
    },
    {
     "name": "stderr",
     "output_type": "stream",
     "text": [
      "Train Processing: : 100%|▉| 374/375 [00:35<00:00, 10.67it/s, {'multiclassaccuracy': 0.967125, 'multiclassprecision': 0.967125, 'val_multiclassaccuracy': 0.9621875, 'val_multiclassp\n",
      "Train Processing: :   0%|▎                                                                                                                          | 1/375 [00:00<00:50,  7.38it/s]"
     ]
    },
    {
     "name": "stdout",
     "output_type": "stream",
     "text": [
      "Epoch 20/20\n",
      "\u001b[36m(ActorPYUFedGen pid=563149)\u001b[0m {'train-loss': 0.10971348732709885, 'train_multiclassaccuracy': tensor(0.9659), 'train_multiclassprecision': tensor(0.9659), 'val_eval_multiclassaccuracy': tensor(0.9585), 'val_eval_multiclassprecision': tensor(0.9585)}\u001b[32m [repeated 2x across cluster]\u001b[0m\n"
     ]
    },
    {
     "name": "stderr",
     "output_type": "stream",
     "text": [
      "Train Processing: : 100%|▉| 374/375 [00:32<00:00, 11.40it/s, {'multiclassaccuracy': 0.96746874, 'multiclassprecision': 0.96746874, 'val_multiclassaccuracy': 0.963625, 'val_multicla\n"
     ]
    }
   ],
   "source": [
    "model_def = TorchModel(\n",
    "    model_fn=ConvNet,\n",
    "    loss_fn=loss_fn,\n",
    "    optim_fn=optim_fn,\n",
    "    metrics=[\n",
    "        metric_wrapper(Accuracy, task=\"multiclass\", num_classes=10, average='micro'),\n",
    "        metric_wrapper(Precision, task=\"multiclass\", num_classes=10, average='micro'),\n",
    "    ],\n",
    ")\n",
    "\n",
    "device_list = [alice, bob]\n",
    "server_actor = FedGenServer(device=charlie)\n",
    "aggregator = SecureAggregator(charlie, [alice, bob])\n",
    "\n",
    "# spcify params\n",
    "fl_model = FLModel(\n",
    "    server=server_actor,\n",
    "    device_list=device_list,\n",
    "    model=model_def,\n",
    "    strategy='fed_gen',  # fl strategy\n",
    "    backend=\"torch\",  # backend support ['tensorflow', 'torch']\n",
    "    aggregator=aggregator,\n",
    "    generator_config=generator_config,\n",
    ")\n",
    "history = fl_model.fit(\n",
    "    train_data,\n",
    "    train_label,\n",
    "    validation_data=(test_data, test_label),\n",
    "    epochs=20,\n",
    "    batch_size=32,\n",
    "    aggregate_freq=1,\n",
    ")"
   ]
  },
  {
   "cell_type": "markdown",
   "id": "285ef2c4",
   "metadata": {},
   "source": [
    "## 绘制结果"
   ]
  },
  {
   "cell_type": "code",
   "execution_count": 14,
   "id": "f31086b7-2159-4e21-b8a3-75a3a79efae8",
   "metadata": {},
   "outputs": [
    {
     "name": "stdout",
     "output_type": "stream",
     "text": [
      "\u001b[36m(ActorPYUFedGen pid=563149)\u001b[0m {'train-loss': 0.09162553399801254, 'train_multiclassaccuracy': tensor(0.9663), 'train_multiclassprecision': tensor(0.9663), 'val_eval_multiclassaccuracy': tensor(0.9610), 'val_eval_multiclassprecision': tensor(0.9610)}\n"
     ]
    },
    {
     "data": {
      "image/png": "[encoded data removed]",
      "text/plain": [
       "<Figure size 640x480 with 1 Axes>"
      ]
     },
     "metadata": {},
     "output_type": "display_data"
    }
   ],
   "source": [
    "from matplotlib import pyplot as plt\n",
    "\n",
    "# Draw accuracy values for training & validation\n",
    "plt.plot(history[\"global_history\"]['multiclassaccuracy'])\n",
    "plt.plot(history[\"global_history\"]['val_multiclassaccuracy'])\n",
    "plt.title('FLModel accuracy')\n",
    "plt.ylabel('Accuracy')\n",
    "plt.xlabel('Epoch')\n",
    "plt.legend(['Train', 'Valid'], loc='upper left')\n",
    "plt.show()"
   ]
  },
  {
   "cell_type": "code",
   "execution_count": null,
   "id": "4678cd74-f29f-4f68-b459-771433c373e6",
   "metadata": {},
   "outputs": [],
   "source": []
  }
 ],
 "metadata": {
  "kernelspec": {
   "display_name": "Python 3 (ipykernel)",
   "language": "python",
   "name": "python3"
  },
  "language_info": {
   "codemirror_mode": {
    "name": "ipython",
    "version": 3
   },
   "file_extension": ".py",
   "mimetype": "text/x-python",
   "name": "python",
   "nbconvert_exporter": "python",
   "pygments_lexer": "ipython3",
   "version": "3.10.14"
  }
 },
 "nbformat": 4,
 "nbformat_minor": 5
}
